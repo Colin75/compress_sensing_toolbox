{
 "cells": [
  {
   "cell_type": "code",
   "execution_count": 1,
   "metadata": {},
   "outputs": [],
   "source": [
    "#https://kieranrcampbell.github.io/blog/2016/05/15/gibbs-sampling-bayesian-linear-regression.html"
   ]
  },
  {
   "cell_type": "code",
   "execution_count": 3,
   "metadata": {},
   "outputs": [
    {
     "name": "stdout",
     "output_type": "stream",
     "text": [
      "The autoreload extension is already loaded. To reload it, use:\n",
      "  %reload_ext autoreload\n"
     ]
    }
   ],
   "source": [
    "%load_ext autoreload\n",
    "%autoreload 2\n",
    "\n",
    "\n",
    "import sys,os\n",
    "import numpy as np\n",
    "import readline\n",
    "#from rpy2.rinterface import R_VERSION_BUILD\n",
    "#print(R_VERSION_BUILD)\n",
    "#import rpy2.robjects as robjects\n",
    "#import rpy2.robjects.numpy2ri\n",
    "import math\n",
    "import datetime\n",
    "import pandas as pd\n",
    "#import seaborn as sns\n",
    "\n",
    "from scipy.fftpack import fft, ifft\n",
    "\n",
    "\n",
    "#Import compressivesesning libs\n",
    "sys.path.insert(0,\"..\")\n",
    "\n",
    "from pyCompressSensing.SignalFrame import *"
   ]
  },
  {
   "cell_type": "code",
   "execution_count": 12,
   "metadata": {},
   "outputs": [],
   "source": [
    "from scipy.stats import geninvgauss,gamma"
   ]
  },
  {
   "cell_type": "markdown",
   "metadata": {},
   "source": [
    "## Impport r package if necessary:"
   ]
  },
  {
   "cell_type": "code",
   "execution_count": 4,
   "metadata": {},
   "outputs": [],
   "source": [
    "#Set proxy if needed\n",
    "os.environ[\"http_proxy\"] = \"http://proxy-internet-aws-eu.subsidia.org:3128\"\n",
    "os.environ[\"https_proxy\"] = \"http://proxy-internet-aws-eu.subsidia.org:3128\"\n",
    "        "
   ]
  },
  {
   "cell_type": "code",
   "execution_count": 5,
   "metadata": {},
   "outputs": [
    {
     "name": "stderr",
     "output_type": "stream",
     "text": [
      "/home/tdenimal/.conda/envs/compressive_sensing/lib/python3.7/site-packages/rpy2/rinterface/__init__.py:146: RRuntimeWarning: also installing the dependency ‘DistributionUtils’\n",
      "\n",
      "\n",
      "  warnings.warn(x, RRuntimeWarning)\n",
      "/home/tdenimal/.conda/envs/compressive_sensing/lib/python3.7/site-packages/rpy2/rinterface/__init__.py:146: RRuntimeWarning: trying URL 'https://cloud.r-project.org/src/contrib/DistributionUtils_0.6-0.tar.gz'\n",
      "\n",
      "  warnings.warn(x, RRuntimeWarning)\n",
      "/home/tdenimal/.conda/envs/compressive_sensing/lib/python3.7/site-packages/rpy2/rinterface/__init__.py:146: RRuntimeWarning: Content type 'application/x-gzip'\n",
      "  warnings.warn(x, RRuntimeWarning)\n",
      "/home/tdenimal/.conda/envs/compressive_sensing/lib/python3.7/site-packages/rpy2/rinterface/__init__.py:146: RRuntimeWarning:  length 41231 bytes (40 KB)\n",
      "\n",
      "  warnings.warn(x, RRuntimeWarning)\n",
      "/home/tdenimal/.conda/envs/compressive_sensing/lib/python3.7/site-packages/rpy2/rinterface/__init__.py:146: RRuntimeWarning: =\n",
      "  warnings.warn(x, RRuntimeWarning)\n",
      "/home/tdenimal/.conda/envs/compressive_sensing/lib/python3.7/site-packages/rpy2/rinterface/__init__.py:146: RRuntimeWarning: \n",
      "\n",
      "  warnings.warn(x, RRuntimeWarning)\n",
      "/home/tdenimal/.conda/envs/compressive_sensing/lib/python3.7/site-packages/rpy2/rinterface/__init__.py:146: RRuntimeWarning: downloaded 40 KB\n",
      "\n",
      "\n",
      "  warnings.warn(x, RRuntimeWarning)\n",
      "/home/tdenimal/.conda/envs/compressive_sensing/lib/python3.7/site-packages/rpy2/rinterface/__init__.py:146: RRuntimeWarning: trying URL 'https://cloud.r-project.org/src/contrib/GeneralizedHyperbolic_0.8-4.tar.gz'\n",
      "\n",
      "  warnings.warn(x, RRuntimeWarning)\n",
      "/home/tdenimal/.conda/envs/compressive_sensing/lib/python3.7/site-packages/rpy2/rinterface/__init__.py:146: RRuntimeWarning:  length 131895 bytes (128 KB)\n",
      "\n",
      "  warnings.warn(x, RRuntimeWarning)\n",
      "/home/tdenimal/.conda/envs/compressive_sensing/lib/python3.7/site-packages/rpy2/rinterface/__init__.py:146: RRuntimeWarning: downloaded 128 KB\n",
      "\n",
      "\n",
      "  warnings.warn(x, RRuntimeWarning)\n",
      "/home/tdenimal/.conda/envs/compressive_sensing/lib/python3.7/site-packages/rpy2/rinterface/__init__.py:146: RRuntimeWarning: trying URL 'https://cloud.r-project.org/src/contrib/MASS_7.3-51.4.tar.gz'\n",
      "\n",
      "  warnings.warn(x, RRuntimeWarning)\n",
      "/home/tdenimal/.conda/envs/compressive_sensing/lib/python3.7/site-packages/rpy2/rinterface/__init__.py:146: RRuntimeWarning:  length 487233 bytes (475 KB)\n",
      "\n",
      "  warnings.warn(x, RRuntimeWarning)\n",
      "/home/tdenimal/.conda/envs/compressive_sensing/lib/python3.7/site-packages/rpy2/rinterface/__init__.py:146: RRuntimeWarning: downloaded 475 KB\n",
      "\n",
      "\n",
      "  warnings.warn(x, RRuntimeWarning)\n",
      "/home/tdenimal/.conda/envs/compressive_sensing/lib/python3.7/site-packages/rpy2/rinterface/__init__.py:146: RRuntimeWarning: \n",
      "  warnings.warn(x, RRuntimeWarning)\n",
      "/home/tdenimal/.conda/envs/compressive_sensing/lib/python3.7/site-packages/rpy2/rinterface/__init__.py:146: RRuntimeWarning: The downloaded source packages are in\n",
      "\t‘/tmp/RtmpIemUZt/downloaded_packages’\n",
      "  warnings.warn(x, RRuntimeWarning)\n",
      "/home/tdenimal/.conda/envs/compressive_sensing/lib/python3.7/site-packages/rpy2/rinterface/__init__.py:146: RRuntimeWarning: Updating HTML index of packages in '.Library'\n",
      "\n",
      "  warnings.warn(x, RRuntimeWarning)\n",
      "/home/tdenimal/.conda/envs/compressive_sensing/lib/python3.7/site-packages/rpy2/rinterface/__init__.py:146: RRuntimeWarning: Making 'packages.html' ...\n",
      "  warnings.warn(x, RRuntimeWarning)\n",
      "/home/tdenimal/.conda/envs/compressive_sensing/lib/python3.7/site-packages/rpy2/rinterface/__init__.py:146: RRuntimeWarning:  done\n",
      "\n",
      "  warnings.warn(x, RRuntimeWarning)\n"
     ]
    }
   ],
   "source": [
    "#https://rpy2.readthedocs.io/en/version_2.8.x/introduction.html#r-packages\n",
    "\n",
    "# import rpy2's package module\n",
    "import rpy2.robjects.packages as rpackages\n",
    "\n",
    "# import R's utility package\n",
    "utils = rpackages.importr('utils')\n",
    "\n",
    "# select a mirror for R packages\n",
    "utils.chooseCRANmirror(ind=1) # select the first mirror in the list\n",
    "\n",
    "# Install dependencies\n",
    "packnames = ['GeneralizedHyperbolic','MASS']\n",
    "names_to_install = [x for x in packnames if (not rpackages.isinstalled(x))]\n",
    "\n",
    "# R vector of strings\n",
    "from rpy2.robjects.vectors import StrVector\n",
    "\n",
    "# Selectively install what needs to be install.\n",
    "# We are fancy, just because we can.\n",
    "\n",
    "if len(names_to_install) > 0:\n",
    "    utils.install_packages(StrVector(names_to_install))\n",
    "    \n",
    "    \n",
    "#Imports R packages\n",
    "#see https://cran.r-project.org/web/views/Distributions.html\n",
    "from rpy2.robjects.packages import importr\n",
    "r_GIG = importr('GeneralizedHyperbolic') #used for Generalized Gaussian Inverse distribution\n",
    "r_stats = importr('stats') #used for Normal, gamma distribution\n",
    "r_MASS = importr('MASS') #used for multivariate Normal distribution"
   ]
  },
  {
   "cell_type": "markdown",
   "metadata": {},
   "source": [
    "## General functions"
   ]
  },
  {
   "cell_type": "code",
   "execution_count": 6,
   "metadata": {},
   "outputs": [],
   "source": [
    "def sample_gauss(size):\n",
    "    return np.random.normal(loc=0.0, scale=1.0,size=size)"
   ]
  },
  {
   "cell_type": "code",
   "execution_count": 7,
   "metadata": {},
   "outputs": [],
   "source": [
    "def psi_inv(x,scale):\n",
    "    return ifft(x)*scale\n",
    "\n",
    "def psi_invt(x,scale):\n",
    "    return fft(x)/scale"
   ]
  },
  {
   "cell_type": "markdown",
   "metadata": {},
   "source": [
    "## Sample functions"
   ]
  },
  {
   "cell_type": "code",
   "execution_count": 8,
   "metadata": {},
   "outputs": [],
   "source": [
    "def sample_x(y, tau, _lambda, gamma_r,gamma_i,v,alpha,phi,psi_inv_phit_y):\n",
    "    N=phi.shape[1]\n",
    "    M=phi.shape[0]\n",
    "    \n",
    "    \n",
    "    LHS_r = np.array([math.pow((1/alpha) + _lambda*(1/gamma_ind),-1) for gamma_ind in gamma_r])\n",
    "    LHS_i = np.array([math.pow((1/alpha) + _lambda*(1/gamma_ind),-1) for gamma_ind in gamma_i])\n",
    "    \n",
    "    m = tau*psi_inv_phit_y+v\n",
    "    \n",
    "    mu_tilde_r = np.real(LHS_r*np.real(m))\n",
    "    mu_tilde_i = np.real(LHS_i*np.imag(m))\n",
    "    \n",
    "    gauss_v3 = sample_gauss(N)\n",
    "    gauss_v4 = sample_gauss(N)\n",
    "    \n",
    "    \n",
    "    LHS2_r = np.array([math.pow((1/alpha) + _lambda*(1/gamma_ind),-1/2) for gamma_ind in gamma_r])\n",
    "    LHS2_i = np.array([math.pow((1/alpha) + _lambda*(1/gamma_ind),-1/2) for gamma_ind in gamma_i])\n",
    "    \n",
    "    x_r = mu_tilde_r + LHS2_r * gauss_v3\n",
    "    x_i = mu_tilde_i + LHS2_i * gauss_v4\n",
    "    \n",
    "    x = x_r + x_i*1j\n",
    "    \n",
    "    return x"
   ]
  },
  {
   "cell_type": "code",
   "execution_count": 9,
   "metadata": {},
   "outputs": [],
   "source": [
    "def sample_v(x,tau,alpha,phi):\n",
    "    N=phi.shape[1]\n",
    "    M=phi.shape[0]\n",
    "    \n",
    "    mu = (1/alpha)*x-tau*psi_invt(phi.T@phi@psi_inv(x,math.sqrt(N)),math.sqrt(N))\n",
    "    \n",
    "    \n",
    "    V2_1 = sample_gauss(N) + sample_gauss(N)*1j\n",
    "    V2_1 = math.sqrt(1/2)*V2_1\n",
    "    V2_2 = sample_gauss(M) + sample_gauss(M)*1j\n",
    "    V2_2 = math.sqrt(1/2)*V2_2\n",
    "    \n",
    "    sqrt_alpha = math.sqrt(alpha)\n",
    "    sqrt_1_alpha = math.sqrt(1-alpha)\n",
    "    \n",
    "    \n",
    "    V2 = math.pow(alpha,-1/2)*V2_1-sqrt_alpha*phi.T@phi@V2_1 + (sqrt_1_alpha)*phi.T@V2_2\n",
    "    \n",
    "    V1 = psi_invt(V2,math.sqrt(N))\n",
    "    \n",
    "    V = mu + V1\n",
    "    \n",
    "    #Condition for positive definite condition\n",
    "    #init tau à 1/std(y)\n",
    "    \n",
    "    return V"
   ]
  },
  {
   "cell_type": "code",
   "execution_count": 10,
   "metadata": {},
   "outputs": [
    {
     "data": {
      "text/latex": [
       "$$ \\boxed{\\gamma_n \\mid x_{n},\\lambda \\sim GIG(1,\\lambda x_{n}^{2},\\frac{1}{2})} $$\n"
      ],
      "text/plain": [
       "<IPython.core.display.Latex object>"
      ]
     },
     "metadata": {},
     "output_type": "display_data"
    }
   ],
   "source": [
    "%%latex\n",
    "$$ \\boxed{\\gamma_n \\mid x_{n},\\lambda \\sim GIG(1,\\lambda x_{n}^{2},\\frac{1}{2})} $$"
   ]
  },
  {
   "cell_type": "code",
   "execution_count": 63,
   "metadata": {},
   "outputs": [],
   "source": [
    "def sample_gamma(_lambda,x):\n",
    "    gamma_n = []\n",
    "    for x_n in x :\n",
    "        b_chi =  _lambda*math.pow(np.real(x_n),2)\n",
    "        a_psi = 1\n",
    "        c_lambda = 1/2\n",
    "        rv = geninvgauss.rvs(c_lambda, np.sqrt(b_chi*a_psi), loc=0, scale=np.sqrt(a_psi/b_chi), size=1, random_state=None)\n",
    "        #param = robjects.FloatVector([b_chi,a_psi,c_lambda])\n",
    "        #Dnas le package les param : c(chi, psi, lambda) = b,a,c\n",
    "        #gamma_n.append(np.array(r_GIG.rgig(1,param = param))[0])\n",
    "        gamma_n.append(rv)\n",
    "    return np.concatenate(gamma_n).ravel()\n",
    "    #return np.array(gamma_n)"
   ]
  },
  {
   "cell_type": "code",
   "execution_count": 52,
   "metadata": {},
   "outputs": [
    {
     "data": {
      "text/latex": [
       "$$ \\boxed{\\lambda \\mid x,\\gamma \\sim \\operatorname{Gamma}(N+a_{\\lambda},b_{\\lambda}+\\frac{1}{2}x^{T}\\operatorname{diag}\\left(\\gamma^{-1}\\right)x)} $$\n"
      ],
      "text/plain": [
       "<IPython.core.display.Latex object>"
      ]
     },
     "metadata": {},
     "output_type": "display_data"
    }
   ],
   "source": [
    "%%latex\n",
    "$$ \\boxed{\\lambda \\mid x,\\gamma \\sim \\operatorname{Gamma}(N+a_{\\lambda},b_{\\lambda}+\\frac{1}{2}x^{T}\\operatorname{diag}\\left(\\gamma^{-1}\\right)x)} $$"
   ]
  },
  {
   "cell_type": "code",
   "execution_count": 53,
   "metadata": {},
   "outputs": [],
   "source": [
    "def sample_lambda(x,gamma_r,gamma_i,a_lambda = 1e-6,b_lambda = 1e-6):\n",
    "    N = x.shape[0]\n",
    "    shape = N+a_lambda\n",
    "    x_r = np.real(x)\n",
    "    x_i = np.imag(x)\n",
    "    \n",
    "    \n",
    "    rate = np.real(b_lambda + (1/2)*((x_r.T@np.linalg.inv(np.diag(gamma_r))@x_r) + (x_i.T@np.linalg.inv(np.diag(gamma_i))@x_i)))\n",
    "    return gamma.rvs(a=shape,scale=1/rate, size=1, random_state=None)\n",
    "\n",
    "\n",
    "    #return np.array(r_stats.rgamma(1, shape = shape, rate = rate))    "
   ]
  },
  {
   "cell_type": "code",
   "execution_count": 54,
   "metadata": {},
   "outputs": [
    {
     "data": {
      "text/latex": [
       "$$ \\boxed{\\tau \\mid x,y \\sim \\operatorname{Gamma}(M+a_{\\tau},b_{\\tau}+\\frac{1}{2}\\|y - \\phi \\psi^{-1}X\\|^{2}_{2})} $$\n"
      ],
      "text/plain": [
       "<IPython.core.display.Latex object>"
      ]
     },
     "metadata": {},
     "output_type": "display_data"
    }
   ],
   "source": [
    "%%latex\n",
    "$$ \\boxed{\\tau \\mid x,y \\sim \\operatorname{Gamma}(M+a_{\\tau},b_{\\tau}+\\frac{1}{2}\\|y - \\phi \\psi^{-1}X\\|^{2}_{2})} $$"
   ]
  },
  {
   "cell_type": "code",
   "execution_count": 55,
   "metadata": {},
   "outputs": [],
   "source": [
    "def sample_tau(x,y,phi,a_tau = 1e-6,b_tau = 1e-6):\n",
    "    M = y.shape[0]\n",
    "    N = x.shape[0]\n",
    "    #M au lieu de M/2 car partie relle et partie complexe\n",
    "    shape = (M)+a_tau\n",
    "    rate = b_tau + (1/2)*(math.pow(np.linalg.norm(y - phi@psi_inv(x,math.sqrt(N)),2),2))\n",
    "    return gamma.rvs(a=shape,scale=1/rate, size=1, random_state=None)\n",
    "    #return np.array(r_stats.rgamma(1, shape = shape, rate = rate)) "
   ]
  },
  {
   "cell_type": "markdown",
   "metadata": {},
   "source": [
    "## Collapsed Gibbs sampler ( )"
   ]
  },
  {
   "cell_type": "code",
   "execution_count": 67,
   "metadata": {},
   "outputs": [],
   "source": [
    "def gibbs(y, iters, init, hypers,phi):\n",
    "    #Init parameters\n",
    "    _lambda = init[\"lambda\"]\n",
    "    tau = init[\"tau\"]\n",
    "    gamma_r = init[\"gamma\"]\n",
    "    gamma_i = init[\"gamma\"]\n",
    "    v = init[\"v\"]\n",
    "    \n",
    "    \n",
    "    #Optimisation\n",
    "    M=phi.shape[0]\n",
    "    N=phi.shape[1]\n",
    "    psi_inv_phit_y = psi_inv(phi.T@y,math.sqrt(N))\n",
    "    print(psi_inv_phit_y.shape)\n",
    "    \n",
    "    trace = np.zeros((iters, 3), dtype=object) ## trace to store values of x,tau,lambda,gamma\n",
    "    \n",
    "    for it in range(iters):\n",
    "        alpha = 0.1*tau\n",
    "        \n",
    "        x = sample_x(y, tau, _lambda, gamma_r,gamma_i,v,alpha,phi,psi_inv_phit_y)\n",
    "        x_r = np.real(x)\n",
    "        x_i = np.imag(x)\n",
    "        \n",
    "        \n",
    "        \n",
    "        \n",
    "        \n",
    "        _lambda = sample_lambda(x,gamma_r,gamma_i,hypers[\"a_lambda\"],hypers[\"b_lambda\"])\n",
    "        tau = sample_tau(x,y,phi,hypers[\"a_tau\"],hypers[\"b_tau\"])\n",
    "        \n",
    "        gamma_r = sample_gamma(_lambda,x_r)\n",
    "        gamma_i = sample_gamma(_lambda,x_i)\n",
    "    \n",
    "        \n",
    "        v = sample_v(x,tau,alpha,phi)\n",
    "        \n",
    "#         print(datetime.datetime.now()-now)\n",
    "#         if (it % 100) == 1 :\n",
    "        print(str(it)+\": \"+str(np.linalg.norm(x,1))+\" \"+str(tau)+\" \"+str(_lambda))\n",
    "        \n",
    "        trace[it,:] = np.array((np.linalg.norm(x,1), _lambda, tau), dtype=object)\n",
    "        \n",
    "    trace = pd.DataFrame(trace)\n",
    "    trace.columns = ['x','lambda', 'tau']\n",
    "        \n",
    "    return trace"
   ]
  },
  {
   "cell_type": "markdown",
   "metadata": {},
   "source": [
    "## Test on signal "
   ]
  },
  {
   "cell_type": "code",
   "execution_count": 57,
   "metadata": {},
   "outputs": [
    {
     "name": "stdout",
     "output_type": "stream",
     "text": [
      "\n",
      "Sampling process: \n",
      "=================\n",
      "Distribution : Uniform\n",
      "Lenght of initial signal : 9000 \n",
      "Lenght of sampled signal: 3000\n",
      "Sampling rate : 0.300\n"
     ]
    },
    {
     "data": {
      "image/png": "[encoded data removed]",
      "text/plain": [
       "<Figure size 720x288 with 1 Axes>"
      ]
     },
     "metadata": {
      "needs_background": "light"
     },
     "output_type": "display_data"
    }
   ],
   "source": [
    "sf = SignalFrame()\n",
    "s01 = sf.read_wave('../data/CETIM.wav', coeff_amplitude=1/10000,trunc=0.0125)\n",
    "s01.sampler_uniform(rate=0.3)\n",
    "signal_sampled_uni_r03 = s01.temporal_sampled\n",
    "phi_uni_r03 = s01.phi"
   ]
  },
  {
   "cell_type": "code",
   "execution_count": 58,
   "metadata": {},
   "outputs": [],
   "source": [
    "y = signal_sampled_uni_r03\n",
    "N = len(s01.temporal)"
   ]
  },
  {
   "cell_type": "code",
   "execution_count": 59,
   "metadata": {},
   "outputs": [],
   "source": [
    "## specify initial values\n",
    "init = {\"x\": np.zeros(N),\n",
    "        \"tau\": 1,\n",
    "        \"lambda\": 1,\n",
    "        \"gamma\": np.ones(N),\n",
    "        \"v\": np.zeros(N),\n",
    "        }\n",
    "\n",
    "## specify hyper parameters\n",
    "hypers = {\"a_lambda\": 1e-6,\n",
    "         \"b_lambda\": 1e-6,\n",
    "         \"a_tau\": 1e-6,\n",
    "         \"b_tau\": 1e-6\n",
    "         }"
   ]
  },
  {
   "cell_type": "code",
   "execution_count": 68,
   "metadata": {},
   "outputs": [
    {
     "name": "stdout",
     "output_type": "stream",
     "text": [
      "(9000,)\n",
      "0: 3395.9829392460138 [1.87274433] [10.9737282]\n",
      "1: 5229.852028924936 [1.51234734] [11.94915373]\n",
      "2: 3558.5941304437133 [1.85638391] [15.33589973]\n",
      "3: 3953.013747854649 [1.78453007] [19.98191513]\n",
      "4: 3292.3533592180274 [1.88690285] [25.95137548]\n",
      "5: 3271.613516723825 [1.82844307] [33.35601359]\n",
      "6: 2880.042980886147 [1.91449503] [42.07418884]\n",
      "7: 2756.569917457184 [1.91338441] [53.2418204]\n",
      "8: 2573.0887275046657 [1.97046514] [65.04129195]\n",
      "9: 2443.0836822128017 [1.95734328] [79.01867747]\n",
      "10: 2281.846560844043 [2.02179673] [94.62125599]\n",
      "11: 2225.305168102187 [2.0888396] [112.0542913]\n",
      "12: 2095.141979724492 [2.13295218] [125.27686561]\n",
      "13: 2049.314936651926 [1.9712305] [140.53245984]\n",
      "14: 1925.6266966616158 [2.10327771] [165.62565641]\n",
      "15: 1901.8938671778894 [1.98153405] [186.85712283]\n"
     ]
    },
    {
     "ename": "KeyboardInterrupt",
     "evalue": "",
     "output_type": "error",
     "traceback": [
      "\u001b[0;31m---------------------------------------------------------------------------\u001b[0m",
      "\u001b[0;31mKeyboardInterrupt\u001b[0m                         Traceback (most recent call last)",
      "\u001b[0;32m<ipython-input-68-35de2238b7fc>\u001b[0m in \u001b[0;36m<module>\u001b[0;34m\u001b[0m\n\u001b[1;32m      1\u001b[0m \u001b[0miters\u001b[0m \u001b[0;34m=\u001b[0m \u001b[0;36m600\u001b[0m\u001b[0;34m\u001b[0m\u001b[0;34m\u001b[0m\u001b[0m\n\u001b[0;32m----> 2\u001b[0;31m \u001b[0mtrace\u001b[0m \u001b[0;34m=\u001b[0m \u001b[0mgibbs\u001b[0m\u001b[0;34m(\u001b[0m\u001b[0msignal_sampled_uni_r03\u001b[0m\u001b[0;34m,\u001b[0m \u001b[0miters\u001b[0m\u001b[0;34m,\u001b[0m \u001b[0minit\u001b[0m\u001b[0;34m,\u001b[0m \u001b[0mhypers\u001b[0m\u001b[0;34m,\u001b[0m\u001b[0mphi_uni_r03\u001b[0m\u001b[0;34m)\u001b[0m\u001b[0;34m\u001b[0m\u001b[0;34m\u001b[0m\u001b[0m\n\u001b[0m",
      "\u001b[0;32m<ipython-input-67-e53a4718b253>\u001b[0m in \u001b[0;36mgibbs\u001b[0;34m(y, iters, init, hypers, phi)\u001b[0m\n\u001b[1;32m     27\u001b[0m \u001b[0;34m\u001b[0m\u001b[0m\n\u001b[1;32m     28\u001b[0m \u001b[0;34m\u001b[0m\u001b[0m\n\u001b[0;32m---> 29\u001b[0;31m         \u001b[0m_lambda\u001b[0m \u001b[0;34m=\u001b[0m \u001b[0msample_lambda\u001b[0m\u001b[0;34m(\u001b[0m\u001b[0mx\u001b[0m\u001b[0;34m,\u001b[0m\u001b[0mgamma_r\u001b[0m\u001b[0;34m,\u001b[0m\u001b[0mgamma_i\u001b[0m\u001b[0;34m,\u001b[0m\u001b[0mhypers\u001b[0m\u001b[0;34m[\u001b[0m\u001b[0;34m\"a_lambda\"\u001b[0m\u001b[0;34m]\u001b[0m\u001b[0;34m,\u001b[0m\u001b[0mhypers\u001b[0m\u001b[0;34m[\u001b[0m\u001b[0;34m\"b_lambda\"\u001b[0m\u001b[0;34m]\u001b[0m\u001b[0;34m)\u001b[0m\u001b[0;34m\u001b[0m\u001b[0;34m\u001b[0m\u001b[0m\n\u001b[0m\u001b[1;32m     30\u001b[0m         \u001b[0mtau\u001b[0m \u001b[0;34m=\u001b[0m \u001b[0msample_tau\u001b[0m\u001b[0;34m(\u001b[0m\u001b[0mx\u001b[0m\u001b[0;34m,\u001b[0m\u001b[0my\u001b[0m\u001b[0;34m,\u001b[0m\u001b[0mphi\u001b[0m\u001b[0;34m,\u001b[0m\u001b[0mhypers\u001b[0m\u001b[0;34m[\u001b[0m\u001b[0;34m\"a_tau\"\u001b[0m\u001b[0;34m]\u001b[0m\u001b[0;34m,\u001b[0m\u001b[0mhypers\u001b[0m\u001b[0;34m[\u001b[0m\u001b[0;34m\"b_tau\"\u001b[0m\u001b[0;34m]\u001b[0m\u001b[0;34m)\u001b[0m\u001b[0;34m\u001b[0m\u001b[0;34m\u001b[0m\u001b[0m\n\u001b[1;32m     31\u001b[0m \u001b[0;34m\u001b[0m\u001b[0m\n",
      "\u001b[0;32m<ipython-input-53-19ee2c3e26e8>\u001b[0m in \u001b[0;36msample_lambda\u001b[0;34m(x, gamma_r, gamma_i, a_lambda, b_lambda)\u001b[0m\n\u001b[1;32m      6\u001b[0m \u001b[0;34m\u001b[0m\u001b[0m\n\u001b[1;32m      7\u001b[0m \u001b[0;34m\u001b[0m\u001b[0m\n\u001b[0;32m----> 8\u001b[0;31m     \u001b[0mrate\u001b[0m \u001b[0;34m=\u001b[0m \u001b[0mnp\u001b[0m\u001b[0;34m.\u001b[0m\u001b[0mreal\u001b[0m\u001b[0;34m(\u001b[0m\u001b[0mb_lambda\u001b[0m \u001b[0;34m+\u001b[0m \u001b[0;34m(\u001b[0m\u001b[0;36m1\u001b[0m\u001b[0;34m/\u001b[0m\u001b[0;36m2\u001b[0m\u001b[0;34m)\u001b[0m\u001b[0;34m*\u001b[0m\u001b[0;34m(\u001b[0m\u001b[0;34m(\u001b[0m\u001b[0mx_r\u001b[0m\u001b[0;34m.\u001b[0m\u001b[0mT\u001b[0m\u001b[0;34m@\u001b[0m\u001b[0mnp\u001b[0m\u001b[0;34m.\u001b[0m\u001b[0mlinalg\u001b[0m\u001b[0;34m.\u001b[0m\u001b[0minv\u001b[0m\u001b[0;34m(\u001b[0m\u001b[0mnp\u001b[0m\u001b[0;34m.\u001b[0m\u001b[0mdiag\u001b[0m\u001b[0;34m(\u001b[0m\u001b[0mgamma_r\u001b[0m\u001b[0;34m)\u001b[0m\u001b[0;34m)\u001b[0m\u001b[0;34m@\u001b[0m\u001b[0mx_r\u001b[0m\u001b[0;34m)\u001b[0m \u001b[0;34m+\u001b[0m \u001b[0;34m(\u001b[0m\u001b[0mx_i\u001b[0m\u001b[0;34m.\u001b[0m\u001b[0mT\u001b[0m\u001b[0;34m@\u001b[0m\u001b[0mnp\u001b[0m\u001b[0;34m.\u001b[0m\u001b[0mlinalg\u001b[0m\u001b[0;34m.\u001b[0m\u001b[0minv\u001b[0m\u001b[0;34m(\u001b[0m\u001b[0mnp\u001b[0m\u001b[0;34m.\u001b[0m\u001b[0mdiag\u001b[0m\u001b[0;34m(\u001b[0m\u001b[0mgamma_i\u001b[0m\u001b[0;34m)\u001b[0m\u001b[0;34m)\u001b[0m\u001b[0;34m@\u001b[0m\u001b[0mx_i\u001b[0m\u001b[0;34m)\u001b[0m\u001b[0;34m)\u001b[0m\u001b[0;34m)\u001b[0m\u001b[0;34m\u001b[0m\u001b[0;34m\u001b[0m\u001b[0m\n\u001b[0m\u001b[1;32m      9\u001b[0m     \u001b[0;32mreturn\u001b[0m \u001b[0mgamma\u001b[0m\u001b[0;34m.\u001b[0m\u001b[0mrvs\u001b[0m\u001b[0;34m(\u001b[0m\u001b[0ma\u001b[0m\u001b[0;34m=\u001b[0m\u001b[0mshape\u001b[0m\u001b[0;34m,\u001b[0m\u001b[0mscale\u001b[0m\u001b[0;34m=\u001b[0m\u001b[0;36m1\u001b[0m\u001b[0;34m/\u001b[0m\u001b[0mrate\u001b[0m\u001b[0;34m,\u001b[0m \u001b[0msize\u001b[0m\u001b[0;34m=\u001b[0m\u001b[0;36m1\u001b[0m\u001b[0;34m,\u001b[0m \u001b[0mrandom_state\u001b[0m\u001b[0;34m=\u001b[0m\u001b[0;32mNone\u001b[0m\u001b[0;34m)\u001b[0m\u001b[0;34m\u001b[0m\u001b[0;34m\u001b[0m\u001b[0m\n\u001b[1;32m     10\u001b[0m \u001b[0;34m\u001b[0m\u001b[0m\n",
      "\u001b[0;32m/data/anaconda3/envs/fil_rouge/lib/python3.7/site-packages/numpy/linalg/linalg.py\u001b[0m in \u001b[0;36minv\u001b[0;34m(a)\u001b[0m\n\u001b[1;32m    549\u001b[0m     \u001b[0msignature\u001b[0m \u001b[0;34m=\u001b[0m \u001b[0;34m'D->D'\u001b[0m \u001b[0;32mif\u001b[0m \u001b[0misComplexType\u001b[0m\u001b[0;34m(\u001b[0m\u001b[0mt\u001b[0m\u001b[0;34m)\u001b[0m \u001b[0;32melse\u001b[0m \u001b[0;34m'd->d'\u001b[0m\u001b[0;34m\u001b[0m\u001b[0;34m\u001b[0m\u001b[0m\n\u001b[1;32m    550\u001b[0m     \u001b[0mextobj\u001b[0m \u001b[0;34m=\u001b[0m \u001b[0mget_linalg_error_extobj\u001b[0m\u001b[0;34m(\u001b[0m\u001b[0m_raise_linalgerror_singular\u001b[0m\u001b[0;34m)\u001b[0m\u001b[0;34m\u001b[0m\u001b[0;34m\u001b[0m\u001b[0m\n\u001b[0;32m--> 551\u001b[0;31m     \u001b[0mainv\u001b[0m \u001b[0;34m=\u001b[0m \u001b[0m_umath_linalg\u001b[0m\u001b[0;34m.\u001b[0m\u001b[0minv\u001b[0m\u001b[0;34m(\u001b[0m\u001b[0ma\u001b[0m\u001b[0;34m,\u001b[0m \u001b[0msignature\u001b[0m\u001b[0;34m=\u001b[0m\u001b[0msignature\u001b[0m\u001b[0;34m,\u001b[0m \u001b[0mextobj\u001b[0m\u001b[0;34m=\u001b[0m\u001b[0mextobj\u001b[0m\u001b[0;34m)\u001b[0m\u001b[0;34m\u001b[0m\u001b[0;34m\u001b[0m\u001b[0m\n\u001b[0m\u001b[1;32m    552\u001b[0m     \u001b[0;32mreturn\u001b[0m \u001b[0mwrap\u001b[0m\u001b[0;34m(\u001b[0m\u001b[0mainv\u001b[0m\u001b[0;34m.\u001b[0m\u001b[0mastype\u001b[0m\u001b[0;34m(\u001b[0m\u001b[0mresult_t\u001b[0m\u001b[0;34m,\u001b[0m \u001b[0mcopy\u001b[0m\u001b[0;34m=\u001b[0m\u001b[0;32mFalse\u001b[0m\u001b[0;34m)\u001b[0m\u001b[0;34m)\u001b[0m\u001b[0;34m\u001b[0m\u001b[0;34m\u001b[0m\u001b[0m\n\u001b[1;32m    553\u001b[0m \u001b[0;34m\u001b[0m\u001b[0m\n",
      "\u001b[0;31mKeyboardInterrupt\u001b[0m: "
     ]
    }
   ],
   "source": [
    "iters = 600\n",
    "trace = gibbs(signal_sampled_uni_r03, iters, init, hypers,phi_uni_r03)"
   ]
  },
  {
   "cell_type": "code",
   "execution_count": null,
   "metadata": {},
   "outputs": [],
   "source": [
    "trace.columns"
   ]
  },
  {
   "cell_type": "code",
   "execution_count": null,
   "metadata": {},
   "outputs": [],
   "source": [
    "test = trace.loc[:,['lambda','tau']]"
   ]
  },
  {
   "cell_type": "code",
   "execution_count": null,
   "metadata": {},
   "outputs": [],
   "source": [
    "test"
   ]
  },
  {
   "cell_type": "code",
   "execution_count": null,
   "metadata": {},
   "outputs": [],
   "source": [
    "test['tau'] = test['tau'].apply(lambda x: np.asscalar(x))"
   ]
  },
  {
   "cell_type": "code",
   "execution_count": null,
   "metadata": {},
   "outputs": [],
   "source": [
    "traceplot = test.plot()\n",
    "traceplot.set_xlabel(\"Iteration\")\n",
    "traceplot.set_ylabel(\"Parameter value\")"
   ]
  },
  {
   "cell_type": "code",
   "execution_count": null,
   "metadata": {},
   "outputs": [],
   "source": [
    "trace.to_csv('trace_10000.csv')"
   ]
  },
  {
   "cell_type": "code",
   "execution_count": null,
   "metadata": {},
   "outputs": [],
   "source": []
  },
  {
   "cell_type": "code",
   "execution_count": null,
   "metadata": {},
   "outputs": [],
   "source": [
    "F = open(\"lambda1.txt\",\"r\")\n",
    "lambdas = [float(i) for i in F.read().splitlines()]"
   ]
  },
  {
   "cell_type": "code",
   "execution_count": null,
   "metadata": {},
   "outputs": [],
   "source": [
    "sns.distplot(lambdas[0:50]).set_title('$\\lambda$ : Itération 50')"
   ]
  },
  {
   "cell_type": "code",
   "execution_count": null,
   "metadata": {},
   "outputs": [],
   "source": [
    "sns.distplot(lambdas[0:200]).set_title('$\\lambda$ : Itération 200')"
   ]
  },
  {
   "cell_type": "code",
   "execution_count": null,
   "metadata": {},
   "outputs": [],
   "source": [
    "sns.distplot(lambdas[0:600]).set_title('$\\lambda$ : Itération 600')"
   ]
  },
  {
   "cell_type": "code",
   "execution_count": null,
   "metadata": {},
   "outputs": [],
   "source": [
    "np.mean(lambdas[50:])"
   ]
  },
  {
   "cell_type": "code",
   "execution_count": null,
   "metadata": {},
   "outputs": [],
   "source": []
  }
 ],
 "metadata": {
  "kernelspec": {
   "display_name": "Python [conda env:fil_rouge]",
   "language": "python",
   "name": "conda-env-fil_rouge-py"
  },
  "language_info": {
   "codemirror_mode": {
    "name": "ipython",
    "version": 3
   },
   "file_extension": ".py",
   "mimetype": "text/x-python",
   "name": "python",
   "nbconvert_exporter": "python",
   "pygments_lexer": "ipython3",
   "version": "3.7.3"
  }
 },
 "nbformat": 4,
 "nbformat_minor": 2
}
