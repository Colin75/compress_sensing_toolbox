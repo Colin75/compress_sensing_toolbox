{
 "cells": [
  {
   "cell_type": "code",
   "execution_count": 1,
   "metadata": {},
   "outputs": [],
   "source": [
    "#https://kieranrcampbell.github.io/blog/2016/05/15/gibbs-sampling-bayesian-linear-regression.html"
   ]
  },
  {
   "cell_type": "code",
   "execution_count": 3,
   "metadata": {},
   "outputs": [
    {
     "name": "stdout",
     "output_type": "stream",
     "text": [
      "The autoreload extension is already loaded. To reload it, use:\n",
      "  %reload_ext autoreload\n",
      "('3', '6.0', '', 76424)\n"
     ]
    }
   ],
   "source": [
    "%load_ext autoreload\n",
    "%autoreload 2\n",
    "\n",
    "\n",
    "import sys,os\n",
    "import numpy as np\n",
    "import readline\n",
    "from rpy2.rinterface import R_VERSION_BUILD\n",
    "print(R_VERSION_BUILD)\n",
    "import rpy2.robjects as robjects\n",
    "import rpy2.robjects.numpy2ri\n",
    "import math\n",
    "import datetime\n",
    "import pandas as pd\n",
    "import seaborn as sns\n",
    "\n",
    "from scipy.fftpack import fft, ifft\n",
    "\n",
    "\n",
    "#Import compressivesesning libs\n",
    "sys.path.insert(0,\"..\")\n",
    "\n",
    "from pyCompressSensing.SignalFrame import *"
   ]
  },
  {
   "cell_type": "markdown",
   "metadata": {},
   "source": [
    "## Impport r package if necessary:"
   ]
  },
  {
   "cell_type": "code",
   "execution_count": 4,
   "metadata": {},
   "outputs": [],
   "source": [
    "#Set proxy if needed\n",
    "os.environ[\"http_proxy\"] = \"http://proxy-internet-aws-eu.subsidia.org:3128\"\n",
    "os.environ[\"https_proxy\"] = \"http://proxy-internet-aws-eu.subsidia.org:3128\"\n",
    "        "
   ]
  },
  {
   "cell_type": "code",
   "execution_count": 5,
   "metadata": {},
   "outputs": [
    {
     "name": "stderr",
     "output_type": "stream",
     "text": [
      "/home/tdenimal/.conda/envs/compressive_sensing/lib/python3.7/site-packages/rpy2/rinterface/__init__.py:146: RRuntimeWarning: also installing the dependency ‘DistributionUtils’\n",
      "\n",
      "\n",
      "  warnings.warn(x, RRuntimeWarning)\n",
      "/home/tdenimal/.conda/envs/compressive_sensing/lib/python3.7/site-packages/rpy2/rinterface/__init__.py:146: RRuntimeWarning: trying URL 'https://cloud.r-project.org/src/contrib/DistributionUtils_0.6-0.tar.gz'\n",
      "\n",
      "  warnings.warn(x, RRuntimeWarning)\n",
      "/home/tdenimal/.conda/envs/compressive_sensing/lib/python3.7/site-packages/rpy2/rinterface/__init__.py:146: RRuntimeWarning: Content type 'application/x-gzip'\n",
      "  warnings.warn(x, RRuntimeWarning)\n",
      "/home/tdenimal/.conda/envs/compressive_sensing/lib/python3.7/site-packages/rpy2/rinterface/__init__.py:146: RRuntimeWarning:  length 41231 bytes (40 KB)\n",
      "\n",
      "  warnings.warn(x, RRuntimeWarning)\n",
      "/home/tdenimal/.conda/envs/compressive_sensing/lib/python3.7/site-packages/rpy2/rinterface/__init__.py:146: RRuntimeWarning: =\n",
      "  warnings.warn(x, RRuntimeWarning)\n",
      "/home/tdenimal/.conda/envs/compressive_sensing/lib/python3.7/site-packages/rpy2/rinterface/__init__.py:146: RRuntimeWarning: \n",
      "\n",
      "  warnings.warn(x, RRuntimeWarning)\n",
      "/home/tdenimal/.conda/envs/compressive_sensing/lib/python3.7/site-packages/rpy2/rinterface/__init__.py:146: RRuntimeWarning: downloaded 40 KB\n",
      "\n",
      "\n",
      "  warnings.warn(x, RRuntimeWarning)\n",
      "/home/tdenimal/.conda/envs/compressive_sensing/lib/python3.7/site-packages/rpy2/rinterface/__init__.py:146: RRuntimeWarning: trying URL 'https://cloud.r-project.org/src/contrib/GeneralizedHyperbolic_0.8-4.tar.gz'\n",
      "\n",
      "  warnings.warn(x, RRuntimeWarning)\n",
      "/home/tdenimal/.conda/envs/compressive_sensing/lib/python3.7/site-packages/rpy2/rinterface/__init__.py:146: RRuntimeWarning:  length 131895 bytes (128 KB)\n",
      "\n",
      "  warnings.warn(x, RRuntimeWarning)\n",
      "/home/tdenimal/.conda/envs/compressive_sensing/lib/python3.7/site-packages/rpy2/rinterface/__init__.py:146: RRuntimeWarning: downloaded 128 KB\n",
      "\n",
      "\n",
      "  warnings.warn(x, RRuntimeWarning)\n",
      "/home/tdenimal/.conda/envs/compressive_sensing/lib/python3.7/site-packages/rpy2/rinterface/__init__.py:146: RRuntimeWarning: trying URL 'https://cloud.r-project.org/src/contrib/MASS_7.3-51.4.tar.gz'\n",
      "\n",
      "  warnings.warn(x, RRuntimeWarning)\n",
      "/home/tdenimal/.conda/envs/compressive_sensing/lib/python3.7/site-packages/rpy2/rinterface/__init__.py:146: RRuntimeWarning:  length 487233 bytes (475 KB)\n",
      "\n",
      "  warnings.warn(x, RRuntimeWarning)\n",
      "/home/tdenimal/.conda/envs/compressive_sensing/lib/python3.7/site-packages/rpy2/rinterface/__init__.py:146: RRuntimeWarning: downloaded 475 KB\n",
      "\n",
      "\n",
      "  warnings.warn(x, RRuntimeWarning)\n",
      "/home/tdenimal/.conda/envs/compressive_sensing/lib/python3.7/site-packages/rpy2/rinterface/__init__.py:146: RRuntimeWarning: \n",
      "  warnings.warn(x, RRuntimeWarning)\n",
      "/home/tdenimal/.conda/envs/compressive_sensing/lib/python3.7/site-packages/rpy2/rinterface/__init__.py:146: RRuntimeWarning: The downloaded source packages are in\n",
      "\t‘/tmp/RtmpIemUZt/downloaded_packages’\n",
      "  warnings.warn(x, RRuntimeWarning)\n",
      "/home/tdenimal/.conda/envs/compressive_sensing/lib/python3.7/site-packages/rpy2/rinterface/__init__.py:146: RRuntimeWarning: Updating HTML index of packages in '.Library'\n",
      "\n",
      "  warnings.warn(x, RRuntimeWarning)\n",
      "/home/tdenimal/.conda/envs/compressive_sensing/lib/python3.7/site-packages/rpy2/rinterface/__init__.py:146: RRuntimeWarning: Making 'packages.html' ...\n",
      "  warnings.warn(x, RRuntimeWarning)\n",
      "/home/tdenimal/.conda/envs/compressive_sensing/lib/python3.7/site-packages/rpy2/rinterface/__init__.py:146: RRuntimeWarning:  done\n",
      "\n",
      "  warnings.warn(x, RRuntimeWarning)\n"
     ]
    }
   ],
   "source": [
    "#https://rpy2.readthedocs.io/en/version_2.8.x/introduction.html#r-packages\n",
    "\n",
    "# import rpy2's package module\n",
    "import rpy2.robjects.packages as rpackages\n",
    "\n",
    "# import R's utility package\n",
    "utils = rpackages.importr('utils')\n",
    "\n",
    "# select a mirror for R packages\n",
    "utils.chooseCRANmirror(ind=1) # select the first mirror in the list\n",
    "\n",
    "# Install dependencies\n",
    "packnames = ['GeneralizedHyperbolic','MASS']\n",
    "names_to_install = [x for x in packnames if (not rpackages.isinstalled(x))]\n",
    "\n",
    "# R vector of strings\n",
    "from rpy2.robjects.vectors import StrVector\n",
    "\n",
    "# Selectively install what needs to be install.\n",
    "# We are fancy, just because we can.\n",
    "\n",
    "if len(names_to_install) > 0:\n",
    "    utils.install_packages(StrVector(names_to_install))\n",
    "    \n",
    "    \n",
    "#Imports R packages\n",
    "#see https://cran.r-project.org/web/views/Distributions.html\n",
    "from rpy2.robjects.packages import importr\n",
    "r_GIG = importr('GeneralizedHyperbolic') #used for Generalized Gaussian Inverse distribution\n",
    "r_stats = importr('stats') #used for Normal, gamma distribution\n",
    "r_MASS = importr('MASS') #used for multivariate Normal distribution"
   ]
  },
  {
   "cell_type": "markdown",
   "metadata": {},
   "source": [
    "## General functions"
   ]
  },
  {
   "cell_type": "code",
   "execution_count": 6,
   "metadata": {},
   "outputs": [],
   "source": [
    "def sample_gauss(size):\n",
    "    return np.random.normal(loc=0.0, scale=1.0,size=size)"
   ]
  },
  {
   "cell_type": "code",
   "execution_count": 7,
   "metadata": {},
   "outputs": [],
   "source": [
    "def psi_inv(x,scale):\n",
    "    return ifft(x)*scale\n",
    "\n",
    "def psi_invt(x,scale):\n",
    "    return fft(x)/scale"
   ]
  },
  {
   "cell_type": "markdown",
   "metadata": {},
   "source": [
    "## Sample functions"
   ]
  },
  {
   "cell_type": "code",
   "execution_count": 8,
   "metadata": {},
   "outputs": [],
   "source": [
    "def sample_x(y, tau, _lambda, gamma_r,gamma_i,v,alpha,phi,psi_inv_phit_y):\n",
    "    N=phi.shape[1]\n",
    "    M=phi.shape[0]\n",
    "    \n",
    "    \n",
    "    LHS_r = np.array([math.pow((1/alpha) + _lambda*(1/gamma_ind),-1) for gamma_ind in gamma_r])\n",
    "    LHS_i = np.array([math.pow((1/alpha) + _lambda*(1/gamma_ind),-1) for gamma_ind in gamma_i])\n",
    "    \n",
    "    m = tau*psi_inv_phit_y+v\n",
    "    \n",
    "    mu_tilde_r = np.real(LHS_r*np.real(m))\n",
    "    mu_tilde_i = np.real(LHS_i*np.imag(m))\n",
    "    \n",
    "    gauss_v3 = sample_gauss(N)\n",
    "    gauss_v4 = sample_gauss(N)\n",
    "    \n",
    "    \n",
    "    LHS2_r = np.array([math.pow((1/alpha) + _lambda*(1/gamma_ind),-1/2) for gamma_ind in gamma_r])\n",
    "    LHS2_i = np.array([math.pow((1/alpha) + _lambda*(1/gamma_ind),-1/2) for gamma_ind in gamma_i])\n",
    "    \n",
    "    x_r = mu_tilde_r + LHS2_r * gauss_v3\n",
    "    x_i = mu_tilde_i + LHS2_i * gauss_v4\n",
    "    \n",
    "    x = x_r + x_i*1j\n",
    "    \n",
    "    return x"
   ]
  },
  {
   "cell_type": "code",
   "execution_count": 9,
   "metadata": {},
   "outputs": [],
   "source": [
    "def sample_v(x,tau,alpha,phi):\n",
    "    N=phi.shape[1]\n",
    "    M=phi.shape[0]\n",
    "    \n",
    "    mu = (1/alpha)*x-tau*psi_invt(phi.T@phi@psi_inv(x,math.sqrt(N)),math.sqrt(N))\n",
    "    \n",
    "    \n",
    "    V2_1 = sample_gauss(N) + sample_gauss(N)*1j\n",
    "    V2_1 = math.sqrt(1/2)*V2_1\n",
    "    V2_2 = sample_gauss(M) + sample_gauss(M)*1j\n",
    "    V2_2 = math.sqrt(1/2)*V2_2\n",
    "    \n",
    "    sqrt_alpha = math.sqrt(alpha)\n",
    "    sqrt_1_alpha = math.sqrt(1-alpha)\n",
    "    \n",
    "    \n",
    "    V2 = math.pow(alpha,-1/2)*V2_1-sqrt_alpha*phi.T@phi@V2_1 + (sqrt_1_alpha)*phi.T@V2_2\n",
    "    \n",
    "    V1 = psi_invt(V2,math.sqrt(N))\n",
    "    \n",
    "    V = mu + V1\n",
    "    \n",
    "    #Condition for positive definite condition\n",
    "    #init tau à 1/std(y)\n",
    "    \n",
    "    return V"
   ]
  },
  {
   "cell_type": "code",
   "execution_count": 10,
   "metadata": {},
   "outputs": [
    {
     "data": {
      "text/latex": [
       "$$ \\boxed{\\gamma_n \\mid x_{n},\\lambda \\sim GIG(1,\\lambda x_{n}^{2},\\frac{1}{2})} $$\n"
      ],
      "text/plain": [
       "<IPython.core.display.Latex object>"
      ]
     },
     "metadata": {},
     "output_type": "display_data"
    }
   ],
   "source": [
    "%%latex\n",
    "$$ \\boxed{\\gamma_n \\mid x_{n},\\lambda \\sim GIG(1,\\lambda x_{n}^{2},\\frac{1}{2})} $$"
   ]
  },
  {
   "cell_type": "code",
   "execution_count": 11,
   "metadata": {},
   "outputs": [],
   "source": [
    "def sample_gamma(_lambda,x):\n",
    "    gamma_n = []\n",
    "    for x_n in x :\n",
    "        b_chi =  _lambda*math.pow(np.real(x_n),2)\n",
    "        a_psi = 1\n",
    "        c_lambda = 1/2\n",
    "        param = robjects.FloatVector([b_chi,a_psi,c_lambda])\n",
    "        #Dnas le package les param : c(chi, psi, lambda) = b,a,c\n",
    "        gamma_n.append(np.array(r_GIG.rgig(1,param = param))[0])\n",
    "    return np.array(gamma_n)"
   ]
  },
  {
   "cell_type": "code",
   "execution_count": 12,
   "metadata": {},
   "outputs": [
    {
     "data": {
      "text/latex": [
       "$$ \\boxed{\\lambda \\mid x,\\gamma \\sim \\operatorname{Gamma}(N+a_{\\lambda},b_{\\lambda}+\\frac{1}{2}x^{T}\\operatorname{diag}\\left(\\gamma^{-1}\\right)x)} $$\n"
      ],
      "text/plain": [
       "<IPython.core.display.Latex object>"
      ]
     },
     "metadata": {},
     "output_type": "display_data"
    }
   ],
   "source": [
    "%%latex\n",
    "$$ \\boxed{\\lambda \\mid x,\\gamma \\sim \\operatorname{Gamma}(N+a_{\\lambda},b_{\\lambda}+\\frac{1}{2}x^{T}\\operatorname{diag}\\left(\\gamma^{-1}\\right)x)} $$"
   ]
  },
  {
   "cell_type": "code",
   "execution_count": 13,
   "metadata": {},
   "outputs": [],
   "source": [
    "def sample_lambda(x,gamma_r,gamma_i,a_lambda = 1e-6,b_lambda = 1e-6):\n",
    "    N = x.shape[0]\n",
    "    shape = N+a_lambda\n",
    "    x_r = np.real(x)\n",
    "    x_i = np.imag(x)\n",
    "    \n",
    "    rate = np.real(b_lambda + (1/2)*((x_r.T@np.linalg.inv(np.diag(gamma_r))@x_r) + (x_i.T@np.linalg.inv(np.diag(gamma_i))@x_i)))\n",
    "    return np.array(r_stats.rgamma(1, shape = shape, rate = rate))    "
   ]
  },
  {
   "cell_type": "code",
   "execution_count": 14,
   "metadata": {},
   "outputs": [
    {
     "data": {
      "text/latex": [
       "$$ \\boxed{\\tau \\mid x,y \\sim \\operatorname{Gamma}(M+a_{\\tau},b_{\\tau}+\\frac{1}{2}\\|y - \\phi \\psi^{-1}X\\|^{2}_{2})} $$\n"
      ],
      "text/plain": [
       "<IPython.core.display.Latex object>"
      ]
     },
     "metadata": {},
     "output_type": "display_data"
    }
   ],
   "source": [
    "%%latex\n",
    "$$ \\boxed{\\tau \\mid x,y \\sim \\operatorname{Gamma}(M+a_{\\tau},b_{\\tau}+\\frac{1}{2}\\|y - \\phi \\psi^{-1}X\\|^{2}_{2})} $$"
   ]
  },
  {
   "cell_type": "code",
   "execution_count": 15,
   "metadata": {},
   "outputs": [],
   "source": [
    "def sample_tau(x,y,phi,a_tau = 1e-6,b_tau = 1e-6):\n",
    "    M = y.shape[0]\n",
    "    N = x.shape[0]\n",
    "    #M au lieu de M/2 car partie relle et partie complexe\n",
    "    shape = (M)+a_tau\n",
    "    rate = b_tau + (1/2)*(math.pow(np.linalg.norm(y - phi@psi_inv(x,math.sqrt(N)),2),2))\n",
    "    return np.array(r_stats.rgamma(1, shape = shape, rate = rate)) "
   ]
  },
  {
   "cell_type": "markdown",
   "metadata": {},
   "source": [
    "## Collapsed Gibbs sampler ( )"
   ]
  },
  {
   "cell_type": "code",
   "execution_count": 16,
   "metadata": {},
   "outputs": [],
   "source": [
    "def gibbs(y, iters, init, hypers,phi):\n",
    "    #Init parameters\n",
    "    _lambda = init[\"lambda\"]\n",
    "    tau = init[\"tau\"]\n",
    "    gamma_r = init[\"gamma\"]\n",
    "    gamma_i = init[\"gamma\"]\n",
    "    v = init[\"v\"]\n",
    "    \n",
    "    \n",
    "    #Optimisation\n",
    "    M=phi.shape[0]\n",
    "    N=phi.shape[1]\n",
    "    psi_inv_phit_y = psi_inv(phi.T@y,math.sqrt(N))\n",
    "    print(psi_inv_phit_y.shape)\n",
    "    \n",
    "    trace = np.zeros((iters, 3), dtype=object) ## trace to store values of x,tau,lambda,gamma\n",
    "    \n",
    "    for it in range(iters):\n",
    "        alpha = 0.1*tau\n",
    "        \n",
    "        x = sample_x(y, tau, _lambda, gamma_r,gamma_i,v,alpha,phi,psi_inv_phit_y)\n",
    "        x_r = np.real(x)\n",
    "        x_i = np.imag(x)\n",
    "        _lambda = sample_lambda(x,gamma_r,gamma_i,hypers[\"a_lambda\"],hypers[\"b_lambda\"])\n",
    "        tau = sample_tau(x,y,phi,hypers[\"a_tau\"],hypers[\"b_tau\"])\n",
    "        \n",
    "        gamma_r = sample_gamma(_lambda,x_r)\n",
    "        gamma_i = sample_gamma(_lambda,x_i)\n",
    "        \n",
    "        v = sample_v(x,tau,alpha,phi)\n",
    "        \n",
    "#         print(datetime.datetime.now()-now)\n",
    "#         if (it % 100) == 1 :\n",
    "        print(str(it)+\": \"+str(np.linalg.norm(x,1))+\" \"+str(tau)+\" \"+str(_lambda))\n",
    "        \n",
    "        trace[it,:] = np.array((np.linalg.norm(x,1), _lambda, tau), dtype=object)\n",
    "        \n",
    "    trace = pd.DataFrame(trace)\n",
    "    trace.columns = ['x','lambda', 'tau']\n",
    "        \n",
    "    return trace"
   ]
  },
  {
   "cell_type": "markdown",
   "metadata": {},
   "source": [
    "## Test on signal "
   ]
  },
  {
   "cell_type": "code",
   "execution_count": 17,
   "metadata": {},
   "outputs": [
    {
     "name": "stdout",
     "output_type": "stream",
     "text": [
      "\n",
      "Sampling process: \n",
      "=================\n",
      "Distribution : Uniform\n",
      "Lenght of initial signal : 9000 \n",
      "Lenght of sampled signal: 3000\n",
      "Sampling rate : 0.300\n"
     ]
    },
    {
     "data": {
      "image/png": "[encoded data removed]",
      "text/plain": [
       "<Figure size 720x288 with 1 Axes>"
      ]
     },
     "metadata": {
      "needs_background": "light"
     },
     "output_type": "display_data"
    }
   ],
   "source": [
    "sf = SignalFrame()\n",
    "s01 = sf.read_wave('../data/CETIM.wav', coeff_amplitude=1/10000,trunc=0.0125)\n",
    "s01.sampler_uniform(rate=0.3)\n",
    "signal_sampled_uni_r03 = s01.temporal_sampled\n",
    "phi_uni_r03 = s01.phi"
   ]
  },
  {
   "cell_type": "code",
   "execution_count": 18,
   "metadata": {},
   "outputs": [],
   "source": [
    "y = signal_sampled_uni_r03\n",
    "N = len(s01.temporal)"
   ]
  },
  {
   "cell_type": "code",
   "execution_count": 19,
   "metadata": {},
   "outputs": [],
   "source": [
    "## specify initial values\n",
    "init = {\"x\": np.zeros(N),\n",
    "        \"tau\": 1,\n",
    "        \"lambda\": 1,\n",
    "        \"gamma\": np.ones(N),\n",
    "        \"v\": np.zeros(N),\n",
    "        }\n",
    "\n",
    "## specify hyper parameters\n",
    "hypers = {\"a_lambda\": 1e-6,\n",
    "         \"b_lambda\": 1e-6,\n",
    "         \"a_tau\": 1e-6,\n",
    "         \"b_tau\": 1e-6\n",
    "         }"
   ]
  },
  {
   "cell_type": "code",
   "execution_count": null,
   "metadata": {},
   "outputs": [
    {
     "name": "stdout",
     "output_type": "stream",
     "text": [
      "(9000,)\n",
      "0: 3421.6234609701323 [1.86618686] [11.17674141]\n",
      "1: 4537.178221840682 [1.60054572] [9.50139866]\n",
      "2: 4013.284952993558 [1.68627309] [11.62325585]\n",
      "3: 3976.1339528323592 [1.70211823] [12.91158374]\n",
      "4: 3785.175479849499 [1.63556621] [14.45384126]\n",
      "5: 3593.0643159381098 [1.76517465] [16.33515447]\n",
      "6: 3564.0550570266187 [1.71419013] [16.87433285]\n",
      "7: 3386.3861120640177 [1.76103217] [18.45783806]\n",
      "8: 3302.100314290845 [1.74036256] [19.39319573]\n",
      "9: 3155.7823980831827 [1.63812573] [21.03253156]\n",
      "10: 2985.2813730876055 [1.76694053] [23.27347284]\n",
      "11: 2982.18461683458 [1.6913362] [23.85431192]\n",
      "12: 2850.5797215118323 [1.71614286] [25.8919864]\n",
      "13: 2780.4114476298932 [1.73020839] [27.6140084]\n",
      "14: 2679.6088866662612 [1.72643408] [28.99086152]\n",
      "15: 2617.4441554291498 [1.73387291] [30.89762464]\n",
      "16: 2575.751208684857 [1.74715379] [31.89014542]\n",
      "17: 2506.7234989856593 [1.79916999] [33.36524766]\n",
      "18: 2488.8442935710027 [1.74029664] [34.61210014]\n",
      "19: 2388.370505465363 [1.76356326] [35.91788916]\n",
      "20: 2360.1478532039423 [1.74210168] [37.18994156]\n",
      "21: 2329.2700253841567 [1.85528005] [39.41899594]\n",
      "22: 2325.4209169360834 [1.81828014] [38.95907335]\n",
      "23: 2279.700931514563 [1.74659319] [40.0901002]\n",
      "24: 2231.7415488071842 [1.85127726] [41.82487046]\n",
      "25: 2248.8369909042167 [1.76650534] [42.72034717]\n",
      "26: 2190.208384196579 [1.80553672] [44.51129979]\n",
      "27: 2153.2660662235376 [1.81391984] [46.17203161]\n",
      "28: 2137.8976843889714 [1.81735743] [46.18868469]\n",
      "29: 2140.4988546724435 [1.75350657] [47.47398369]\n",
      "30: 2080.0376392555954 [1.7920133] [49.63637581]\n",
      "31: 2043.4158170523997 [1.81543818] [51.99861984]\n",
      "32: 1998.588688093778 [1.80722947] [54.04985846]\n",
      "33: 1956.100398268562 [1.90360529] [54.46149928]\n",
      "34: 1961.9193093014876 [1.8923758] [54.50045599]\n",
      "35: 1939.259938037612 [1.84097837] [56.18778031]\n",
      "36: 1891.9007399849113 [1.85990685] [58.36026264]\n",
      "37: 1899.6082422587754 [1.87862332] [58.85347464]\n",
      "38: 1883.355274011237 [1.89304448] [58.19317461]\n",
      "39: 1900.9476854334682 [1.71874076] [57.96692378]\n",
      "40: 1869.1219260684052 [1.83014527] [60.20832011]\n",
      "41: 1872.853285384177 [1.79627674] [61.77134059]\n",
      "42: 1840.51171679467 [1.81892721] [64.4753745]\n",
      "43: 1828.4495116109501 [1.78127061] [64.93833057]\n",
      "44: 1802.550533098278 [1.89773523] [65.66438475]\n",
      "45: 1788.57412408871 [1.88572896] [66.39631188]\n",
      "46: 1769.3269143049247 [1.93286626] [67.94958955]\n",
      "47: 1765.1795319956907 [1.85292368] [67.37651629]\n",
      "48: 1774.7231635851977 [1.89608266] [69.45542384]\n",
      "49: 1758.7094617046075 [1.92338017] [69.74580311]\n"
     ]
    }
   ],
   "source": [
    "iters = 600\n",
    "trace = gibbs(signal_sampled_uni_r03, iters, init, hypers,phi_uni_r03)"
   ]
  },
  {
   "cell_type": "code",
   "execution_count": null,
   "metadata": {},
   "outputs": [],
   "source": [
    "trace.columns"
   ]
  },
  {
   "cell_type": "code",
   "execution_count": null,
   "metadata": {},
   "outputs": [],
   "source": [
    "test = trace.loc[:,['lambda','tau']]"
   ]
  },
  {
   "cell_type": "code",
   "execution_count": null,
   "metadata": {},
   "outputs": [],
   "source": [
    "test"
   ]
  },
  {
   "cell_type": "code",
   "execution_count": null,
   "metadata": {},
   "outputs": [],
   "source": [
    "test['tau'] = test['tau'].apply(lambda x: np.asscalar(x))"
   ]
  },
  {
   "cell_type": "code",
   "execution_count": null,
   "metadata": {},
   "outputs": [],
   "source": [
    "traceplot = test.plot()\n",
    "traceplot.set_xlabel(\"Iteration\")\n",
    "traceplot.set_ylabel(\"Parameter value\")"
   ]
  },
  {
   "cell_type": "code",
   "execution_count": null,
   "metadata": {},
   "outputs": [],
   "source": [
    "trace.to_csv('trace_10000.csv')"
   ]
  },
  {
   "cell_type": "code",
   "execution_count": null,
   "metadata": {},
   "outputs": [],
   "source": []
  },
  {
   "cell_type": "code",
   "execution_count": null,
   "metadata": {},
   "outputs": [],
   "source": [
    "F = open(\"lambda1.txt\",\"r\")\n",
    "lambdas = [float(i) for i in F.read().splitlines()]"
   ]
  },
  {
   "cell_type": "code",
   "execution_count": null,
   "metadata": {},
   "outputs": [],
   "source": [
    "sns.distplot(lambdas[0:50]).set_title('$\\lambda$ : Itération 50')"
   ]
  },
  {
   "cell_type": "code",
   "execution_count": null,
   "metadata": {},
   "outputs": [],
   "source": [
    "sns.distplot(lambdas[0:200]).set_title('$\\lambda$ : Itération 200')"
   ]
  },
  {
   "cell_type": "code",
   "execution_count": null,
   "metadata": {},
   "outputs": [],
   "source": [
    "sns.distplot(lambdas[0:600]).set_title('$\\lambda$ : Itération 600')"
   ]
  },
  {
   "cell_type": "code",
   "execution_count": null,
   "metadata": {},
   "outputs": [],
   "source": [
    "np.mean(lambdas[50:])"
   ]
  },
  {
   "cell_type": "code",
   "execution_count": null,
   "metadata": {},
   "outputs": [],
   "source": []
  }
 ],
 "metadata": {
  "kernelspec": {
   "display_name": "Python [conda env:compressive_sensing]",
   "language": "python",
   "name": "conda-env-compressive_sensing-py"
  }
 },
 "nbformat": 4,
 "nbformat_minor": 2
}
