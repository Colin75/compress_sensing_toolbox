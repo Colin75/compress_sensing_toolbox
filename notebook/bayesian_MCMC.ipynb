{
 "cells": [
  {
   "cell_type": "code",
   "execution_count": null,
   "metadata": {},
   "outputs": [],
   "source": [
    "#https://kieranrcampbell.github.io/blog/2016/05/15/gibbs-sampling-bayesian-linear-regression.html"
   ]
  },
  {
   "cell_type": "code",
   "execution_count": null,
   "metadata": {},
   "outputs": [],
   "source": [
    "%load_ext autoreload\n",
    "%autoreload 2\n",
    "\n",
    "\n",
    "import sys\n",
    "import numpy as np\n",
    "import readline\n",
    "from rpy2.rinterface import R_VERSION_BUILD\n",
    "print(R_VERSION_BUILD)\n",
    "import rpy2.robjects as robjects\n",
    "import rpy2.robjects.numpy2ri\n",
    "import math\n",
    "import datetime\n",
    "import pandas as pd\n",
    "import seaborn as sns\n",
    "\n",
    "from scipy.fftpack import fft, ifft\n",
    "\n",
    "\n",
    "#Import compressivesesning libs\n",
    "sys.path.insert(0,\"..\")\n",
    "\n",
    "from pyCompressSensing.SignalFrame import *"
   ]
  },
  {
   "cell_type": "markdown",
   "metadata": {},
   "source": [
    "## Impport r package if necessary:"
   ]
  },
  {
   "cell_type": "code",
   "execution_count": null,
   "metadata": {},
   "outputs": [],
   "source": [
    "#https://rpy2.readthedocs.io/en/version_2.8.x/introduction.html#r-packages\n",
    "\n",
    "# import rpy2's package module\n",
    "import rpy2.robjects.packages as rpackages\n",
    "\n",
    "# import R's utility package\n",
    "utils = rpackages.importr('utils')\n",
    "\n",
    "# select a mirror for R packages\n",
    "utils.chooseCRANmirror(ind=1) # select the first mirror in the list\n",
    "\n",
    "# Install dependencies\n",
    "packnames = ['GeneralizedHyperbolic','MASS']\n",
    "names_to_install = [x for x in packnames if (not rpackages.isinstalled(x))]\n",
    "\n",
    "# R vector of strings\n",
    "from rpy2.robjects.vectors import StrVector\n",
    "\n",
    "# Selectively install what needs to be install.\n",
    "# We are fancy, just because we can.\n",
    "\n",
    "if len(names_to_install) > 0:\n",
    "    utils.install_packages(StrVector(names_to_install))\n",
    "    \n",
    "    \n",
    "#Imports R packages\n",
    "#see https://cran.r-project.org/web/views/Distributions.html\n",
    "from rpy2.robjects.packages import importr\n",
    "r_GIG = importr('GeneralizedHyperbolic') #used for Generalized Gaussian Inverse distribution\n",
    "r_stats = importr('stats') #used for Normal, gamma distribution\n",
    "r_MASS = importr('MASS') #used for multivariate Normal distribution"
   ]
  },
  {
   "cell_type": "markdown",
   "metadata": {},
   "source": [
    "## General functions"
   ]
  },
  {
   "cell_type": "code",
   "execution_count": null,
   "metadata": {},
   "outputs": [],
   "source": [
    "def sample_gauss(size):\n",
    "    return np.random.normal(loc=0.0, scale=1.0,size=size)"
   ]
  },
  {
   "cell_type": "code",
   "execution_count": null,
   "metadata": {},
   "outputs": [],
   "source": [
    "def psi_inv(x,scale):\n",
    "    return ifft(x)*scale\n",
    "\n",
    "def psi_invt(x,scale):\n",
    "    return fft(x)/scale"
   ]
  },
  {
   "cell_type": "markdown",
   "metadata": {},
   "source": [
    "## Sample functions"
   ]
  },
  {
   "cell_type": "code",
   "execution_count": null,
   "metadata": {},
   "outputs": [],
   "source": [
    "def sample_x(y, tau, _lambda, gamma_r,gamma_i,v,alpha,phi,psi_inv_phit_y):\n",
    "    N=phi.shape[1]\n",
    "    M=phi.shape[0]\n",
    "    \n",
    "    \n",
    "    LHS_r = np.array([math.pow((1/alpha) + _lambda*(1/gamma_ind),-1) for gamma_ind in gamma_r])\n",
    "    LHS_i = np.array([math.pow((1/alpha) + _lambda*(1/gamma_ind),-1) for gamma_ind in gamma_i])\n",
    "    \n",
    "    m = tau*psi_inv_phit_y+v\n",
    "    \n",
    "    mu_tilde_r = np.real(LHS_r*np.real(m))\n",
    "    mu_tilde_i = np.real(LHS_i*np.imag(m))\n",
    "    \n",
    "    gauss_v3 = sample_gauss(N)\n",
    "    gauss_v4 = sample_gauss(N)\n",
    "    \n",
    "    \n",
    "    LHS2_r = np.array([math.pow((1/alpha) + _lambda*(1/gamma_ind),-1/2) for gamma_ind in gamma_r])\n",
    "    LHS2_i = np.array([math.pow((1/alpha) + _lambda*(1/gamma_ind),-1/2) for gamma_ind in gamma_i])\n",
    "    \n",
    "    x_r = mu_tilde_r + LHS2_r * gauss_v3\n",
    "    x_i = mu_tilde_i + LHS2_i * gauss_v4\n",
    "    \n",
    "    x = x_r + x_i*1j\n",
    "    \n",
    "    return x"
   ]
  },
  {
   "cell_type": "code",
   "execution_count": null,
   "metadata": {},
   "outputs": [],
   "source": [
    "def sample_v(x,tau,alpha,phi):\n",
    "    N=phi.shape[1]\n",
    "    M=phi.shape[0]\n",
    "    \n",
    "    mu = (1/alpha)*x-tau*psi_invt(phi.T@phi@psi_inv(x,math.sqrt(N)),math.sqrt(N))\n",
    "    \n",
    "    \n",
    "    V2_1 = sample_gauss(N) + sample_gauss(N)*1j\n",
    "    V2_1 = math.sqrt(1/2)*V2_1\n",
    "    V2_2 = sample_gauss(M) + sample_gauss(M)*1j\n",
    "    V2_2 = math.sqrt(1/2)*V2_2\n",
    "    \n",
    "    sqrt_alpha = math.sqrt(alpha)\n",
    "    sqrt_1_alpha = math.sqrt(1-alpha)\n",
    "    \n",
    "    \n",
    "    V2 = math.pow(alpha,-1/2)*V2_1-sqrt_alpha*phi.T@phi@V2_1 + (sqrt_1_alpha)*phi.T@V2_2\n",
    "    \n",
    "    V1 = psi_invt(V2,math.sqrt(N))\n",
    "    \n",
    "    V = mu + V1\n",
    "    \n",
    "    #Condition for positive definite condition\n",
    "    #init tau à 1/std(y)\n",
    "    \n",
    "    return V"
   ]
  },
  {
   "cell_type": "code",
   "execution_count": null,
   "metadata": {},
   "outputs": [],
   "source": [
    "%%latex\n",
    "$$ \\boxed{\\gamma_n \\mid x_{n},\\lambda \\sim GIG(1,\\lambda x_{n}^{2},\\frac{1}{2})} $$"
   ]
  },
  {
   "cell_type": "code",
   "execution_count": null,
   "metadata": {},
   "outputs": [],
   "source": [
    "def sample_gamma(_lambda,x):\n",
    "    gamma_n = []\n",
    "    for x_n in x :\n",
    "        b_chi =  _lambda*math.pow(np.real(x_n),2)\n",
    "        a_psi = 1\n",
    "        c_lambda = 1/2\n",
    "        param = robjects.FloatVector([b_chi,a_psi,c_lambda])\n",
    "        #Dnas le package les param : c(chi, psi, lambda) = b,a,c\n",
    "        gamma_n.append(np.array(r_GIG.rgig(1,param = param))[0])\n",
    "    return np.array(gamma_n)"
   ]
  },
  {
   "cell_type": "code",
   "execution_count": null,
   "metadata": {},
   "outputs": [],
   "source": [
    "%%latex\n",
    "$$ \\boxed{\\lambda \\mid x,\\gamma \\sim \\operatorname{Gamma}(N+a_{\\lambda},b_{\\lambda}+\\frac{1}{2}x^{T}\\operatorname{diag}\\left(\\gamma^{-1}\\right)x)} $$"
   ]
  },
  {
   "cell_type": "code",
   "execution_count": null,
   "metadata": {},
   "outputs": [],
   "source": [
    "def sample_lambda(x,gamma_r,gamma_i,a_lambda = 1e-6,b_lambda = 1e-6):\n",
    "    N = x.shape[0]\n",
    "    shape = N+a_lambda\n",
    "    x_r = np.real(x)\n",
    "    x_i = np.imag(x)\n",
    "    \n",
    "    rate = np.real(b_lambda + (1/2)*((x_r.T@np.linalg.inv(np.diag(gamma_r))@x_r) + (x_i.T@np.linalg.inv(np.diag(gamma_i))@x_i)))\n",
    "    return np.array(r_stats.rgamma(1, shape = shape, rate = rate))    "
   ]
  },
  {
   "cell_type": "code",
   "execution_count": null,
   "metadata": {},
   "outputs": [],
   "source": [
    "%%latex\n",
    "$$ \\boxed{\\tau \\mid x,y \\sim \\operatorname{Gamma}(M+a_{\\tau},b_{\\tau}+\\frac{1}{2}\\|y - \\phi \\psi^{-1}X\\|^{2}_{2})} $$"
   ]
  },
  {
   "cell_type": "code",
   "execution_count": null,
   "metadata": {},
   "outputs": [],
   "source": [
    "def sample_tau(x,y,phi,a_tau = 1e-6,b_tau = 1e-6):\n",
    "    M = y.shape[0]\n",
    "    N = x.shape[0]\n",
    "    #M au lieu de M/2 car partie relle et partie complexe\n",
    "    shape = (M)+a_tau\n",
    "    rate = b_tau + (1/2)*(math.pow(np.linalg.norm(y - phi@psi_inv(x,math.sqrt(N)),2),2))\n",
    "    return np.array(r_stats.rgamma(1, shape = shape, rate = rate)) "
   ]
  },
  {
   "cell_type": "markdown",
   "metadata": {},
   "source": [
    "## Collapsed Gibbs sampler ( )"
   ]
  },
  {
   "cell_type": "code",
   "execution_count": null,
   "metadata": {},
   "outputs": [],
   "source": [
    "def gibbs(y, iters, init, hypers,phi):\n",
    "    #Init parameters\n",
    "    _lambda = init[\"lambda\"]\n",
    "    tau = init[\"tau\"]\n",
    "    gamma_r = init[\"gamma\"]\n",
    "    gamma_i = init[\"gamma\"]\n",
    "    v = init[\"v\"]\n",
    "    \n",
    "    \n",
    "    #Optimisation\n",
    "    M=phi.shape[0]\n",
    "    N=phi.shape[1]\n",
    "    psi_inv_phit_y = psi_inv(phi.T@y,math.sqrt(N))\n",
    "    print(psi_inv_phit_y.shape)\n",
    "    \n",
    "    trace = np.zeros((iters, 3), dtype=object) ## trace to store values of x,tau,lambda,gamma\n",
    "    \n",
    "    for it in range(iters):\n",
    "        alpha = 0.1*tau\n",
    "        \n",
    "        x = sample_x(y, tau, _lambda, gamma_r,gamma_i,v,alpha,phi,psi_inv_phit_y)\n",
    "        x_r = np.real(x)\n",
    "        x_i = np.imag(x)\n",
    "        _lambda = sample_lambda(x,gamma_r,gamma_i,hypers[\"a_lambda\"],hypers[\"b_lambda\"])\n",
    "        tau = sample_tau(x,y,phi,hypers[\"a_tau\"],hypers[\"b_tau\"])\n",
    "        \n",
    "        gamma_r = sample_gamma(_lambda,x_r)\n",
    "        gamma_i = sample_gamma(_lambda,x_i)\n",
    "        \n",
    "        v = sample_v(x,tau,alpha,phi)\n",
    "        \n",
    "#         print(datetime.datetime.now()-now)\n",
    "#         if (it % 100) == 1 :\n",
    "        print(str(it)+\": \"+str(np.linalg.norm(x,1))+\" \"+str(tau)+\" \"+str(_lambda))\n",
    "        \n",
    "        trace[it,:] = np.array((np.linalg.norm(x,1), _lambda, tau), dtype=object)\n",
    "        \n",
    "    trace = pd.DataFrame(trace)\n",
    "    trace.columns = ['x','lambda', 'tau']\n",
    "        \n",
    "    return trace"
   ]
  },
  {
   "cell_type": "markdown",
   "metadata": {},
   "source": [
    "## Test on signal "
   ]
  },
  {
   "cell_type": "code",
   "execution_count": null,
   "metadata": {},
   "outputs": [],
   "source": [
    "sf = SignalFrame()\n",
    "s01 = sf.read_wave('../data/CETIM.wav', coeff_amplitude=1/10000,trunc=0.0125)\n",
    "s01.sampler_uniform(rate=0.3)\n",
    "signal_sampled_uni_r03 = s01.temporal_sampled\n",
    "phi_uni_r03 = s01.phi"
   ]
  },
  {
   "cell_type": "code",
   "execution_count": null,
   "metadata": {},
   "outputs": [],
   "source": [
    "y = signal_sampled_uni_r03\n",
    "N = len(s01.temporal)"
   ]
  },
  {
   "cell_type": "code",
   "execution_count": null,
   "metadata": {},
   "outputs": [],
   "source": [
    "## specify initial values\n",
    "init = {\"x\": np.zeros(N),\n",
    "        \"tau\": 1,\n",
    "        \"lambda\": 1,\n",
    "        \"gamma\": np.ones(N),\n",
    "        \"v\": np.zeros(N),\n",
    "        }\n",
    "\n",
    "## specify hyper parameters\n",
    "hypers = {\"a_lambda\": 1e-6,\n",
    "         \"b_lambda\": 1e-6,\n",
    "         \"a_tau\": 1e-6,\n",
    "         \"b_tau\": 1e-6\n",
    "         }"
   ]
  },
  {
   "cell_type": "code",
   "execution_count": null,
   "metadata": {},
   "outputs": [],
   "source": [
    "iters = 600\n",
    "trace = gibbs(signal_sampled_uni_r03, iters, init, hypers,phi_uni_r03)"
   ]
  },
  {
   "cell_type": "code",
   "execution_count": null,
   "metadata": {},
   "outputs": [],
   "source": [
    "trace.columns"
   ]
  },
  {
   "cell_type": "code",
   "execution_count": null,
   "metadata": {},
   "outputs": [],
   "source": [
    "test = trace.loc[:,['lambda','tau']]"
   ]
  },
  {
   "cell_type": "code",
   "execution_count": null,
   "metadata": {},
   "outputs": [],
   "source": [
    "test"
   ]
  },
  {
   "cell_type": "code",
   "execution_count": null,
   "metadata": {},
   "outputs": [],
   "source": [
    "test['tau'] = test['tau'].apply(lambda x: np.asscalar(x))"
   ]
  },
  {
   "cell_type": "code",
   "execution_count": null,
   "metadata": {},
   "outputs": [],
   "source": [
    "traceplot = test.plot()\n",
    "traceplot.set_xlabel(\"Iteration\")\n",
    "traceplot.set_ylabel(\"Parameter value\")"
   ]
  },
  {
   "cell_type": "code",
   "execution_count": null,
   "metadata": {},
   "outputs": [],
   "source": [
    "trace.to_csv('trace_10000.csv')"
   ]
  },
  {
   "cell_type": "code",
   "execution_count": null,
   "metadata": {},
   "outputs": [],
   "source": []
  },
  {
   "cell_type": "code",
   "execution_count": null,
   "metadata": {},
   "outputs": [],
   "source": [
    "F = open(\"lambda1.txt\",\"r\")\n",
    "lambdas = [float(i) for i in F.read().splitlines()]"
   ]
  },
  {
   "cell_type": "code",
   "execution_count": null,
   "metadata": {},
   "outputs": [],
   "source": [
    "sns.distplot(lambdas[0:50]).set_title('$\\lambda$ : Itération 50')"
   ]
  },
  {
   "cell_type": "code",
   "execution_count": null,
   "metadata": {},
   "outputs": [],
   "source": [
    "sns.distplot(lambdas[0:200]).set_title('$\\lambda$ : Itération 200')"
   ]
  },
  {
   "cell_type": "code",
   "execution_count": null,
   "metadata": {},
   "outputs": [],
   "source": [
    "sns.distplot(lambdas[0:600]).set_title('$\\lambda$ : Itération 600')"
   ]
  },
  {
   "cell_type": "code",
   "execution_count": null,
   "metadata": {},
   "outputs": [],
   "source": [
    "np.mean(lambdas[50:])"
   ]
  },
  {
   "cell_type": "code",
   "execution_count": null,
   "metadata": {},
   "outputs": [],
   "source": []
  }
 ],
 "metadata": {
  "kernelspec": {
   "display_name": "Python [conda env:fil_rouge]",
   "language": "python",
   "name": "conda-env-fil_rouge-py"
  },
  "language_info": {
   "codemirror_mode": {
    "name": "ipython",
    "version": 3
   },
   "file_extension": ".py",
   "mimetype": "text/x-python",
   "name": "python",
   "nbconvert_exporter": "python",
   "pygments_lexer": "ipython3",
   "version": "3.7.3"
  }
 },
 "nbformat": 4,
 "nbformat_minor": 2
}
